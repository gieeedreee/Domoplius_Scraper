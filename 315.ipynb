{
  "nbformat": 4,
  "nbformat_minor": 0,
  "metadata": {
    "kernelspec": {
      "display_name": "Python 3",
      "language": "python",
      "name": "python3"
    },
    "language_info": {
      "codemirror_mode": {
        "name": "ipython",
        "version": 3
      },
      "file_extension": ".py",
      "mimetype": "text/x-python",
      "name": "python",
      "nbconvert_exporter": "python",
      "pygments_lexer": "ipython3",
      "version": "3.8.3"
    },
    "colab": {
      "name": "315.ipynb",
      "provenance": [],
      "toc_visible": true,
      "include_colab_link": true
    }
  },
  "cells": [
    {
      "cell_type": "markdown",
      "metadata": {
        "id": "view-in-github",
        "colab_type": "text"
      },
      "source": [
        "<a href=\"https://colab.research.google.com/github/gieeedreee/Domoplius_Scraper/blob/main/315.ipynb\" target=\"_parent\"><img src=\"https://colab.research.google.com/assets/colab-badge.svg\" alt=\"Open In Colab\"/></a>"
      ]
    },
    {
      "cell_type": "markdown",
      "metadata": {
        "id": "Fh1KBk_LmfsD"
      },
      "source": [
        "# Module 3: Machine Learning\n",
        "\n",
        "## Sprint 1: Basic Machine Learning\n",
        "\n",
        "## House prices regression competition"
      ]
    },
    {
      "cell_type": "markdown",
      "metadata": {
        "id": "IjvVLzlimfsV"
      },
      "source": [
        "## Background"
      ]
    },
    {
      "cell_type": "markdown",
      "metadata": {
        "id": "fLC0uEo1mfsV"
      },
      "source": [
        "---"
      ]
    },
    {
      "cell_type": "markdown",
      "metadata": {
        "id": "aVVGWn6fmfsX"
      },
      "source": [
        "Participating in Kaggle competitions is an efficient way to learn some aspects of Machine Learning. You can read solutions made public by the others, participate in the discussions to talk about solution ideas and test them by submitting them for evaluation.\n",
        "\n",
        "The metric used for evaluation can vary from competition to competition, but the idea remains the same - build a model that is as accurate as possible on the testing set. In industry, there are other factors to consider when building machine learning models - inference time, solution complexity, maintainability and so on. However, even though you only learn a subset of the required skills while participating in Kaggle competitions, it is quite a fun way to learn by doing it, so let's participate in one of the tutorial competitions now!"
      ]
    },
    {
      "cell_type": "markdown",
      "metadata": {
        "id": "qj8xnZpPmfsZ"
      },
      "source": [
        "## The competition\n",
        "\n",
        "In the previous notebooks, we learned about some very important ML topics:\n",
        "\n",
        "- Optimizing an objective\n",
        "- Training, validation, testing sets\n",
        "- Feature engineering\n",
        "- Logistic regression model\n",
        "- Linear regression model\n",
        "- Random forest model\n",
        "- Interpreting the model by looking at the important features\n",
        "\n",
        "In this notebook we will practice all the above concepts by participating in another Kaggle competition:\n",
        "\n",
        "- https://www.kaggle.com/c/house-prices-advanced-regression-techniques/overview\n",
        "\n",
        "Read the overview and look at the evaluation section (https://www.kaggle.com/c/house-prices-advanced-regression-techniques/overview/evaluation). The target to predict is a continuous variable and hence we will build regression models.\n",
        "\n",
        "Give extra attention to the evaluation metric - the RMSE is computed between the logarithm of the predicted value and the logarithm of the observed sales price, not the raw prices.\n",
        "\n",
        "Now look at the data section - inspect the columns that are available. Download the data and start with exploratory data analysis, similar to the one you used in the previous notebooks. Select some features, maybe do some feature engineering and build linear regression and random forest models using sklearn.\n",
        "\n",
        "For help, you can look at some of the notebooks by other competitors. However, try to write code by yourself, as even though you will always be able to consult external resources while working as a professional, the main thing right now is to learn by first trying it yourself. These two notebooks could be useful:\n",
        "\n",
        "- https://www.kaggle.com/pmarcelino/comprehensive-data-exploration-with-python for exploratory data analysis\n",
        "- https://www.kaggle.com/marcelopesse/house-prices-machine-learning-with-sklearn using random forests for regression"
      ]
    },
    {
      "cell_type": "markdown",
      "metadata": {
        "id": "ULF1LubBmfsa"
      },
      "source": [
        "---"
      ]
    },
    {
      "cell_type": "markdown",
      "metadata": {
        "id": "XmnnkxGomfsb"
      },
      "source": [
        "## Concepts to explore\n",
        "\n",
        "- Linear regression https://scikit-learn.org/stable/modules/generated/sklearn.linear_model.LinearRegression.html\n",
        "- Random forest regressor https://scikit-learn.org/stable/modules/generated/sklearn.ensemble.RandomForestRegressor.html\n",
        "- Root mean squared error https://en.wikipedia.org/wiki/Root-mean-square_deviation"
      ]
    },
    {
      "cell_type": "markdown",
      "metadata": {
        "id": "rB4nMRCLmfsc"
      },
      "source": [
        "## Requirements\n",
        "\n",
        "- Train, validate (using a dedicated validation set) and submit a linear regression model\n",
        "- Train, validate (using a dedicated validation set) and submit a random forest regressor model\n",
        "- Achieve a score better than 0.14 on the public leaderboard"
      ]
    },
    {
      "cell_type": "markdown",
      "metadata": {
        "id": "ChZzl3b4mfsd"
      },
      "source": [
        "## Evaluation criteria\n",
        "\n",
        "- Public leaderboard score\n",
        "- How simple is the model\n",
        "- Code quality"
      ]
    },
    {
      "cell_type": "code",
      "metadata": {
        "id": "tqxXmqfuqtqk"
      },
      "source": [
        "import pandas as pd"
      ],
      "execution_count": 1,
      "outputs": []
    },
    {
      "cell_type": "code",
      "metadata": {
        "id": "Ec_FS2IcqcDk"
      },
      "source": [
        "test = pd.read_csv('/content/test.csv')\n",
        "train = pd.read_csv('/content/train.csv')"
      ],
      "execution_count": 3,
      "outputs": []
    }
  ]
}